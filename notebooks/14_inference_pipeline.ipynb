{
 "cells": [
  {
   "cell_type": "code",
   "execution_count": 1,
   "id": "initial_id",
   "metadata": {
    "collapsed": true,
    "ExecuteTime": {
     "end_time": "2023-11-11T07:34:12.528377803Z",
     "start_time": "2023-11-11T07:34:12.519288949Z"
    }
   },
   "outputs": [],
   "source": [
    "%load_ext autoreload\n",
    "%autoreload 2"
   ]
  },
  {
   "cell_type": "code",
   "execution_count": 2,
   "outputs": [
    {
     "name": "stdout",
     "output_type": "stream",
     "text": [
      "current_date=Timestamp('2023-11-11 07:00:00')\n"
     ]
    }
   ],
   "source": [
    "from datetime import datetime, timedelta\n",
    "import pandas as pd\n",
    "\n",
    "current_date = pd.to_datetime(datetime.utcnow()).floor('H') # - timedelta(hours=1)\n",
    "print(f'{current_date=}')\n",
    "# current_date = pd.Timestamp('2023-02-28 09:00:00')"
   ],
   "metadata": {
    "collapsed": false,
    "ExecuteTime": {
     "end_time": "2023-11-11T07:34:13.756483281Z",
     "start_time": "2023-11-11T07:34:13.500887621Z"
    }
   },
   "id": "1ac433f818fb0d0f"
  },
  {
   "cell_type": "code",
   "execution_count": 3,
   "outputs": [
    {
     "name": "stdout",
     "output_type": "stream",
     "text": [
      "Connected. Call `.close()` to terminate connection gracefully.\n",
      "\n",
      "Logged in to project, explore it here https://c.app.hopsworks.ai:443/p/178327\n",
      "Connected. Call `.close()` to terminate connection gracefully.\n",
      "2023-11-11 08:34:18,560 INFO: Feature view already exists, skipping creation.\n",
      "Connection closed.\n",
      "Connected. Call `.close()` to terminate connection gracefully.\n",
      "\n",
      "Logged in to project, explore it here https://c.app.hopsworks.ai:443/p/178327\n",
      "Connected. Call `.close()` to terminate connection gracefully.\n",
      "Finished: Reading data from Hopsworks, using ArrowFlight (8.73s) from Hopsworks, using ArrowFlight.   Reading data from Hopsworks, using ArrowFlight...   Reading data from Hopsworks, using ArrowFlight.   Reading data from Hopsworks, using ArrowFlight...   Reading data from Hopsworks, using ArrowFlight.   Reading data from Hopsworks, using ArrowFlight...   Reading data from Hopsworks, using ArrowFlight.   \n"
     ]
    }
   ],
   "source": [
    "from src.helpers.inference import load_batch_of_features_from_store\n",
    "\n",
    "features = load_batch_of_features_from_store(current_date)\n"
   ],
   "metadata": {
    "collapsed": false,
    "ExecuteTime": {
     "end_time": "2023-11-11T07:34:31.583903829Z",
     "start_time": "2023-11-11T07:34:15.144893159Z"
    }
   },
   "id": "d4008b9f0275289f"
  },
  {
   "cell_type": "code",
   "execution_count": 6,
   "outputs": [
    {
     "name": "stdout",
     "output_type": "stream",
     "text": [
      "Connection closed.\n",
      "Connected. Call `.close()` to terminate connection gracefully.\n",
      "\n",
      "Logged in to project, explore it here https://c.app.hopsworks.ai:443/p/178327\n",
      "Connected. Call `.close()` to terminate connection gracefully.\n",
      "Downloading file ... /tmp/2c4f3b7d-d2ac-4fdb-b154-9ccd95f64fd7/taxi_demand_predictor_next_hour/10\n",
      "Pipeline(steps=[('functiontransformer',\n",
      "                 FunctionTransformer(func=<function average_rides_last_4_weeks at 0x7f19887b2480>)),\n",
      "                ('temporalfeaturesengineer', TemporalFeaturesEngineer()),\n",
      "                ('lgbmregressor',\n",
      "                 LGBMRegressor(bagging_fraction=0.790775035785763,\n",
      "                               feature_fraction=0.5412877229956432,\n",
      "                               min_child_samples=34, num_leaves=182))])\n",
      "[LightGBM] [Warning] feature_fraction is set=0.5412877229956432, colsample_bytree=1.0 will be ignored. Current value: feature_fraction=0.5412877229956432\n",
      "[LightGBM] [Warning] bagging_fraction is set=0.790775035785763, subsample=1.0 will be ignored. Current value: bagging_fraction=0.790775035785763\n"
     ]
    }
   ],
   "source": [
    "from src.helpers.inference import (\n",
    "    load_model_from_registry,\n",
    "    get_model_predictions\n",
    ")\n",
    "\n",
    "model = load_model_from_registry()\n",
    "predictions = get_model_predictions(model, features)"
   ],
   "metadata": {
    "collapsed": false,
    "ExecuteTime": {
     "end_time": "2023-11-11T07:53:17.022836825Z",
     "start_time": "2023-11-11T07:52:19.548587359Z"
    }
   },
   "id": "d06bf226336df6ff"
  },
  {
   "cell_type": "code",
   "execution_count": 7,
   "outputs": [
    {
     "data": {
      "text/plain": "     pickup_location_id  predicted_demand         pickup_hour\n0                     1               1.0 2023-11-11 07:00:00\n1                     2               0.0 2023-11-11 07:00:00\n2                     3               0.0 2023-11-11 07:00:00\n3                     4               2.0 2023-11-11 07:00:00\n4                     5               0.0 2023-11-11 07:00:00\n..                  ...               ...                 ...\n260                 261               8.0 2023-11-11 07:00:00\n261                 262              48.0 2023-11-11 07:00:00\n262                 263              61.0 2023-11-11 07:00:00\n263                 264              19.0 2023-11-11 07:00:00\n264                 265               5.0 2023-11-11 07:00:00\n\n[265 rows x 3 columns]",
      "text/html": "<div>\n<style scoped>\n    .dataframe tbody tr th:only-of-type {\n        vertical-align: middle;\n    }\n\n    .dataframe tbody tr th {\n        vertical-align: top;\n    }\n\n    .dataframe thead th {\n        text-align: right;\n    }\n</style>\n<table border=\"1\" class=\"dataframe\">\n  <thead>\n    <tr style=\"text-align: right;\">\n      <th></th>\n      <th>pickup_location_id</th>\n      <th>predicted_demand</th>\n      <th>pickup_hour</th>\n    </tr>\n  </thead>\n  <tbody>\n    <tr>\n      <th>0</th>\n      <td>1</td>\n      <td>1.0</td>\n      <td>2023-11-11 07:00:00</td>\n    </tr>\n    <tr>\n      <th>1</th>\n      <td>2</td>\n      <td>0.0</td>\n      <td>2023-11-11 07:00:00</td>\n    </tr>\n    <tr>\n      <th>2</th>\n      <td>3</td>\n      <td>0.0</td>\n      <td>2023-11-11 07:00:00</td>\n    </tr>\n    <tr>\n      <th>3</th>\n      <td>4</td>\n      <td>2.0</td>\n      <td>2023-11-11 07:00:00</td>\n    </tr>\n    <tr>\n      <th>4</th>\n      <td>5</td>\n      <td>0.0</td>\n      <td>2023-11-11 07:00:00</td>\n    </tr>\n    <tr>\n      <th>...</th>\n      <td>...</td>\n      <td>...</td>\n      <td>...</td>\n    </tr>\n    <tr>\n      <th>260</th>\n      <td>261</td>\n      <td>8.0</td>\n      <td>2023-11-11 07:00:00</td>\n    </tr>\n    <tr>\n      <th>261</th>\n      <td>262</td>\n      <td>48.0</td>\n      <td>2023-11-11 07:00:00</td>\n    </tr>\n    <tr>\n      <th>262</th>\n      <td>263</td>\n      <td>61.0</td>\n      <td>2023-11-11 07:00:00</td>\n    </tr>\n    <tr>\n      <th>263</th>\n      <td>264</td>\n      <td>19.0</td>\n      <td>2023-11-11 07:00:00</td>\n    </tr>\n    <tr>\n      <th>264</th>\n      <td>265</td>\n      <td>5.0</td>\n      <td>2023-11-11 07:00:00</td>\n    </tr>\n  </tbody>\n</table>\n<p>265 rows × 3 columns</p>\n</div>"
     },
     "execution_count": 7,
     "metadata": {},
     "output_type": "execute_result"
    }
   ],
   "source": [
    "predictions['pickup_hour'] = current_date\n",
    "predictions"
   ],
   "metadata": {
    "collapsed": false,
    "ExecuteTime": {
     "end_time": "2023-11-11T07:53:23.828336544Z",
     "start_time": "2023-11-11T07:53:23.806136070Z"
    }
   },
   "id": "6e937873afd279aa"
  },
  {
   "cell_type": "code",
   "execution_count": 8,
   "outputs": [
    {
     "name": "stdout",
     "output_type": "stream",
     "text": [
      "Connection closed.\n",
      "Connected. Call `.close()` to terminate connection gracefully.\n",
      "\n",
      "Logged in to project, explore it here https://c.app.hopsworks.ai:443/p/178327\n",
      "Connected. Call `.close()` to terminate connection gracefully.\n"
     ]
    }
   ],
   "source": [
    "from src.helpers.feature_store_api import get_feature_store\n",
    "import src.helpers.config as config\n",
    "\n",
    "# connect to the feature group\n",
    "feature_group = get_feature_store().get_or_create_feature_group(\n",
    "    name=config.FEATURE_GROUP_MODEL_PREDICTIONS,\n",
    "    version=1,\n",
    "    description=\"Predictions generate by our production model\",\n",
    "    primary_key = ['pickup_location_id', 'pickup_hour'],\n",
    "    event_time='pickup_hour',\n",
    ")"
   ],
   "metadata": {
    "collapsed": false,
    "ExecuteTime": {
     "end_time": "2023-11-11T07:53:36.298059276Z",
     "start_time": "2023-11-11T07:53:34.726202085Z"
    }
   },
   "id": "893c32491eb64ad4"
  },
  {
   "cell_type": "code",
   "execution_count": 9,
   "outputs": [
    {
     "name": "stdout",
     "output_type": "stream",
     "text": [
      "Feature Group created successfully, explore it at \n",
      "https://c.app.hopsworks.ai:443/p/178327/fs/178246/fg/210251\n"
     ]
    },
    {
     "data": {
      "text/plain": "Uploading Dataframe: 0.00% |          | Rows 0/265 | Elapsed Time: 00:00 | Remaining Time: ?",
      "application/vnd.jupyter.widget-view+json": {
       "version_major": 2,
       "version_minor": 0,
       "model_id": "01deca3be607440680440414546407cb"
      }
     },
     "metadata": {},
     "output_type": "display_data"
    },
    {
     "name": "stdout",
     "output_type": "stream",
     "text": [
      "Launching job: model_predictions_feature_group_1_offline_fg_materialization\n",
      "Job started successfully, you can follow the progress at \n",
      "https://c.app.hopsworks.ai/p/178327/jobs/named/model_predictions_feature_group_1_offline_fg_materialization/executions\n"
     ]
    },
    {
     "data": {
      "text/plain": "(<hsfs.core.job.Job at 0x7f19e25bd6d0>, None)"
     },
     "execution_count": 9,
     "metadata": {},
     "output_type": "execute_result"
    }
   ],
   "source": [
    "feature_group.insert(predictions, write_options={\"wait_for_job\": False})\n"
   ],
   "metadata": {
    "collapsed": false,
    "ExecuteTime": {
     "end_time": "2023-11-11T07:53:47.503017457Z",
     "start_time": "2023-11-11T07:53:40.890939401Z"
    }
   },
   "id": "232b264d0ca7f8ff"
  },
  {
   "cell_type": "code",
   "execution_count": null,
   "outputs": [],
   "source": [],
   "metadata": {
    "collapsed": false
   },
   "id": "78dfc45b81dda661"
  }
 ],
 "metadata": {
  "kernelspec": {
   "display_name": "Python 3",
   "language": "python",
   "name": "python3"
  },
  "language_info": {
   "codemirror_mode": {
    "name": "ipython",
    "version": 2
   },
   "file_extension": ".py",
   "mimetype": "text/x-python",
   "name": "python",
   "nbconvert_exporter": "python",
   "pygments_lexer": "ipython2",
   "version": "2.7.6"
  }
 },
 "nbformat": 4,
 "nbformat_minor": 5
}
