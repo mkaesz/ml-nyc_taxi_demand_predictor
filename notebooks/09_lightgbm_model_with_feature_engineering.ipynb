{
 "cells": [
  {
   "cell_type": "code",
   "execution_count": 1,
   "id": "initial_id",
   "metadata": {
    "collapsed": true,
    "ExecuteTime": {
     "end_time": "2023-11-08T21:11:45.499783155Z",
     "start_time": "2023-11-08T21:11:45.183753439Z"
    }
   },
   "outputs": [
    {
     "data": {
      "text/plain": "       rides_previous_672_hour  rides_previous_671_hour  \\\n0                          0.0                      0.0   \n1                          0.0                      0.0   \n2                          0.0                      0.0   \n3                          0.0                      0.0   \n4                          0.0                      0.0   \n...                        ...                      ...   \n89300                      3.0                      0.0   \n89301                      6.0                      4.0   \n89302                      7.0                      2.0   \n89303                      6.0                      5.0   \n89304                      6.0                      6.0   \n\n       rides_previous_670_hour  rides_previous_669_hour  \\\n0                          0.0                      0.0   \n1                          0.0                      0.0   \n2                          0.0                      0.0   \n3                          0.0                      0.0   \n4                          0.0                      0.0   \n...                        ...                      ...   \n89300                      2.0                      3.0   \n89301                      0.0                      0.0   \n89302                      3.0                      4.0   \n89303                      4.0                      3.0   \n89304                      4.0                      2.0   \n\n       rides_previous_668_hour  rides_previous_667_hour  \\\n0                          1.0                      1.0   \n1                          0.0                      4.0   \n2                          0.0                      0.0   \n3                          0.0                      0.0   \n4                          0.0                      0.0   \n...                        ...                      ...   \n89300                      2.0                      3.0   \n89301                      2.0                      0.0   \n89302                      7.0                      4.0   \n89303                      0.0                      3.0   \n89304                      5.0                      1.0   \n\n       rides_previous_666_hour  rides_previous_665_hour  \\\n0                          0.0                      2.0   \n1                          1.0                      2.0   \n2                          0.0                      2.0   \n3                          0.0                      0.0   \n4                          0.0                      0.0   \n...                        ...                      ...   \n89300                     13.0                      8.0   \n89301                     14.0                      7.0   \n89302                     10.0                      9.0   \n89303                     11.0                     12.0   \n89304                      0.0                      3.0   \n\n       rides_previous_664_hour  rides_previous_663_hour  ...  \\\n0                          0.0                      0.0  ...   \n1                          1.0                      2.0  ...   \n2                          0.0                      0.0  ...   \n3                          1.0                      1.0  ...   \n4                          0.0                      0.0  ...   \n...                        ...                      ...  ...   \n89300                      9.0                      9.0  ...   \n89301                      8.0                      4.0  ...   \n89302                      7.0                     11.0  ...   \n89303                      9.0                     10.0  ...   \n89304                      5.0                      8.0  ...   \n\n       rides_previous_7_hour  rides_previous_6_hour  rides_previous_5_hour  \\\n0                        2.0                    0.0                    1.0   \n1                        0.0                    0.0                    0.0   \n2                        0.0                    1.0                    2.0   \n3                        2.0                    1.0                    0.0   \n4                        0.0                    0.0                    0.0   \n...                      ...                    ...                    ...   \n89300                    6.0                    5.0                    3.0   \n89301                    4.0                    2.0                    1.0   \n89302                    2.0                    3.0                    5.0   \n89303                    3.0                    3.0                    1.0   \n89304                    6.0                    4.0                    2.0   \n\n       rides_previous_4_hour  rides_previous_3_hour  rides_previous_2_hour  \\\n0                        0.0                    0.0                    0.0   \n1                        0.0                    1.0                    0.0   \n2                        0.0                    0.0                    0.0   \n3                        1.0                    1.0                    0.0   \n4                        0.0                    0.0                    0.0   \n...                      ...                    ...                    ...   \n89300                    1.0                    6.0                    1.0   \n89301                    2.0                    2.0                    2.0   \n89302                    1.0                    1.0                    0.0   \n89303                    2.0                    0.0                    1.0   \n89304                    5.0                    1.0                    1.0   \n\n       rides_previous_1_hour  pickup_hour  pickup_location_id  \\\n0                        0.0   2022-01-29                   1   \n1                        0.0   2022-01-30                   1   \n2                        0.0   2022-01-31                   1   \n3                        0.0   2022-02-01                   1   \n4                        0.0   2022-02-02                   1   \n...                      ...          ...                 ...   \n89300                    3.0   2022-12-27                 265   \n89301                    8.0   2022-12-28                 265   \n89302                    8.0   2022-12-29                 265   \n89303                    2.0   2022-12-30                 265   \n89304                    7.0   2022-12-31                 265   \n\n       target_rides_next_hour  \n0                         0.0  \n1                         0.0  \n2                         0.0  \n3                         0.0  \n4                         0.0  \n...                       ...  \n89300                     3.0  \n89301                     1.0  \n89302                     3.0  \n89303                     7.0  \n89304                     3.0  \n\n[89305 rows x 675 columns]",
      "text/html": "<div>\n<style scoped>\n    .dataframe tbody tr th:only-of-type {\n        vertical-align: middle;\n    }\n\n    .dataframe tbody tr th {\n        vertical-align: top;\n    }\n\n    .dataframe thead th {\n        text-align: right;\n    }\n</style>\n<table border=\"1\" class=\"dataframe\">\n  <thead>\n    <tr style=\"text-align: right;\">\n      <th></th>\n      <th>rides_previous_672_hour</th>\n      <th>rides_previous_671_hour</th>\n      <th>rides_previous_670_hour</th>\n      <th>rides_previous_669_hour</th>\n      <th>rides_previous_668_hour</th>\n      <th>rides_previous_667_hour</th>\n      <th>rides_previous_666_hour</th>\n      <th>rides_previous_665_hour</th>\n      <th>rides_previous_664_hour</th>\n      <th>rides_previous_663_hour</th>\n      <th>...</th>\n      <th>rides_previous_7_hour</th>\n      <th>rides_previous_6_hour</th>\n      <th>rides_previous_5_hour</th>\n      <th>rides_previous_4_hour</th>\n      <th>rides_previous_3_hour</th>\n      <th>rides_previous_2_hour</th>\n      <th>rides_previous_1_hour</th>\n      <th>pickup_hour</th>\n      <th>pickup_location_id</th>\n      <th>target_rides_next_hour</th>\n    </tr>\n  </thead>\n  <tbody>\n    <tr>\n      <th>0</th>\n      <td>0.0</td>\n      <td>0.0</td>\n      <td>0.0</td>\n      <td>0.0</td>\n      <td>1.0</td>\n      <td>1.0</td>\n      <td>0.0</td>\n      <td>2.0</td>\n      <td>0.0</td>\n      <td>0.0</td>\n      <td>...</td>\n      <td>2.0</td>\n      <td>0.0</td>\n      <td>1.0</td>\n      <td>0.0</td>\n      <td>0.0</td>\n      <td>0.0</td>\n      <td>0.0</td>\n      <td>2022-01-29</td>\n      <td>1</td>\n      <td>0.0</td>\n    </tr>\n    <tr>\n      <th>1</th>\n      <td>0.0</td>\n      <td>0.0</td>\n      <td>0.0</td>\n      <td>0.0</td>\n      <td>0.0</td>\n      <td>4.0</td>\n      <td>1.0</td>\n      <td>2.0</td>\n      <td>1.0</td>\n      <td>2.0</td>\n      <td>...</td>\n      <td>0.0</td>\n      <td>0.0</td>\n      <td>0.0</td>\n      <td>0.0</td>\n      <td>1.0</td>\n      <td>0.0</td>\n      <td>0.0</td>\n      <td>2022-01-30</td>\n      <td>1</td>\n      <td>0.0</td>\n    </tr>\n    <tr>\n      <th>2</th>\n      <td>0.0</td>\n      <td>0.0</td>\n      <td>0.0</td>\n      <td>0.0</td>\n      <td>0.0</td>\n      <td>0.0</td>\n      <td>0.0</td>\n      <td>2.0</td>\n      <td>0.0</td>\n      <td>0.0</td>\n      <td>...</td>\n      <td>0.0</td>\n      <td>1.0</td>\n      <td>2.0</td>\n      <td>0.0</td>\n      <td>0.0</td>\n      <td>0.0</td>\n      <td>0.0</td>\n      <td>2022-01-31</td>\n      <td>1</td>\n      <td>0.0</td>\n    </tr>\n    <tr>\n      <th>3</th>\n      <td>0.0</td>\n      <td>0.0</td>\n      <td>0.0</td>\n      <td>0.0</td>\n      <td>0.0</td>\n      <td>0.0</td>\n      <td>0.0</td>\n      <td>0.0</td>\n      <td>1.0</td>\n      <td>1.0</td>\n      <td>...</td>\n      <td>2.0</td>\n      <td>1.0</td>\n      <td>0.0</td>\n      <td>1.0</td>\n      <td>1.0</td>\n      <td>0.0</td>\n      <td>0.0</td>\n      <td>2022-02-01</td>\n      <td>1</td>\n      <td>0.0</td>\n    </tr>\n    <tr>\n      <th>4</th>\n      <td>0.0</td>\n      <td>0.0</td>\n      <td>0.0</td>\n      <td>0.0</td>\n      <td>0.0</td>\n      <td>0.0</td>\n      <td>0.0</td>\n      <td>0.0</td>\n      <td>0.0</td>\n      <td>0.0</td>\n      <td>...</td>\n      <td>0.0</td>\n      <td>0.0</td>\n      <td>0.0</td>\n      <td>0.0</td>\n      <td>0.0</td>\n      <td>0.0</td>\n      <td>0.0</td>\n      <td>2022-02-02</td>\n      <td>1</td>\n      <td>0.0</td>\n    </tr>\n    <tr>\n      <th>...</th>\n      <td>...</td>\n      <td>...</td>\n      <td>...</td>\n      <td>...</td>\n      <td>...</td>\n      <td>...</td>\n      <td>...</td>\n      <td>...</td>\n      <td>...</td>\n      <td>...</td>\n      <td>...</td>\n      <td>...</td>\n      <td>...</td>\n      <td>...</td>\n      <td>...</td>\n      <td>...</td>\n      <td>...</td>\n      <td>...</td>\n      <td>...</td>\n      <td>...</td>\n      <td>...</td>\n    </tr>\n    <tr>\n      <th>89300</th>\n      <td>3.0</td>\n      <td>0.0</td>\n      <td>2.0</td>\n      <td>3.0</td>\n      <td>2.0</td>\n      <td>3.0</td>\n      <td>13.0</td>\n      <td>8.0</td>\n      <td>9.0</td>\n      <td>9.0</td>\n      <td>...</td>\n      <td>6.0</td>\n      <td>5.0</td>\n      <td>3.0</td>\n      <td>1.0</td>\n      <td>6.0</td>\n      <td>1.0</td>\n      <td>3.0</td>\n      <td>2022-12-27</td>\n      <td>265</td>\n      <td>3.0</td>\n    </tr>\n    <tr>\n      <th>89301</th>\n      <td>6.0</td>\n      <td>4.0</td>\n      <td>0.0</td>\n      <td>0.0</td>\n      <td>2.0</td>\n      <td>0.0</td>\n      <td>14.0</td>\n      <td>7.0</td>\n      <td>8.0</td>\n      <td>4.0</td>\n      <td>...</td>\n      <td>4.0</td>\n      <td>2.0</td>\n      <td>1.0</td>\n      <td>2.0</td>\n      <td>2.0</td>\n      <td>2.0</td>\n      <td>8.0</td>\n      <td>2022-12-28</td>\n      <td>265</td>\n      <td>1.0</td>\n    </tr>\n    <tr>\n      <th>89302</th>\n      <td>7.0</td>\n      <td>2.0</td>\n      <td>3.0</td>\n      <td>4.0</td>\n      <td>7.0</td>\n      <td>4.0</td>\n      <td>10.0</td>\n      <td>9.0</td>\n      <td>7.0</td>\n      <td>11.0</td>\n      <td>...</td>\n      <td>2.0</td>\n      <td>3.0</td>\n      <td>5.0</td>\n      <td>1.0</td>\n      <td>1.0</td>\n      <td>0.0</td>\n      <td>8.0</td>\n      <td>2022-12-29</td>\n      <td>265</td>\n      <td>3.0</td>\n    </tr>\n    <tr>\n      <th>89303</th>\n      <td>6.0</td>\n      <td>5.0</td>\n      <td>4.0</td>\n      <td>3.0</td>\n      <td>0.0</td>\n      <td>3.0</td>\n      <td>11.0</td>\n      <td>12.0</td>\n      <td>9.0</td>\n      <td>10.0</td>\n      <td>...</td>\n      <td>3.0</td>\n      <td>3.0</td>\n      <td>1.0</td>\n      <td>2.0</td>\n      <td>0.0</td>\n      <td>1.0</td>\n      <td>2.0</td>\n      <td>2022-12-30</td>\n      <td>265</td>\n      <td>7.0</td>\n    </tr>\n    <tr>\n      <th>89304</th>\n      <td>6.0</td>\n      <td>6.0</td>\n      <td>4.0</td>\n      <td>2.0</td>\n      <td>5.0</td>\n      <td>1.0</td>\n      <td>0.0</td>\n      <td>3.0</td>\n      <td>5.0</td>\n      <td>8.0</td>\n      <td>...</td>\n      <td>6.0</td>\n      <td>4.0</td>\n      <td>2.0</td>\n      <td>5.0</td>\n      <td>1.0</td>\n      <td>1.0</td>\n      <td>7.0</td>\n      <td>2022-12-31</td>\n      <td>265</td>\n      <td>3.0</td>\n    </tr>\n  </tbody>\n</table>\n<p>89305 rows × 675 columns</p>\n</div>"
     },
     "execution_count": 1,
     "metadata": {},
     "output_type": "execute_result"
    }
   ],
   "source": [
    "import pandas as pd\n",
    "from src.paths import TRANSFORMED_DATA_DIR\n",
    "\n",
    "df = pd.read_parquet(TRANSFORMED_DATA_DIR / 'tabular_data.parquet')\n",
    "df"
   ]
  },
  {
   "cell_type": "code",
   "execution_count": 2,
   "outputs": [
    {
     "name": "stdout",
     "output_type": "stream",
     "text": [
      "(32595, 674)\n",
      "(32595,)\n",
      "(56710, 674)\n",
      "(56710,)\n"
     ]
    }
   ],
   "source": [
    "from datetime import datetime\n",
    "from src.data_split import train_test_split\n",
    "\n",
    "X_train, y_train, X_test, y_test = train_test_split(\n",
    "    df,\n",
    "    cutoff_date=datetime(2022,6,1,0,0,0),\n",
    "    target_column_name='target_rides_next_hour'\n",
    ")\n",
    "\n",
    "print(f'{X_train.shape}')\n",
    "print(f'{y_train.shape}')\n",
    "print(f'{X_test.shape}')\n",
    "print(f'{y_test.shape}')"
   ],
   "metadata": {
    "collapsed": false,
    "ExecuteTime": {
     "end_time": "2023-11-08T21:11:53.582006510Z",
     "start_time": "2023-11-08T21:11:52.475411017Z"
    }
   },
   "id": "72108a3a65fd0b0a"
  },
  {
   "cell_type": "code",
   "execution_count": 4,
   "outputs": [],
   "source": [
    "\n",
    "def average_rides_last_4_weeks(X: pd.DataFrame) -> pd.DataFrame:\n",
    "    \"\"\"\n",
    "    Adds one column with the average rides from\n",
    "    - 7 days ago\n",
    "    - 14 days ago\n",
    "    - 21 days ago\n",
    "    - 28 days ago\n",
    "    \"\"\"\n",
    "    X['average_rides_last_4_weeks'] = 0.25*(\n",
    "            X[f'rides_previous_{7*24}_hour'] + \\\n",
    "            X[f'rides_previous_{2*7*24}_hour'] + \\\n",
    "            X[f'rides_previous_{3*7*24}_hour'] + \\\n",
    "            X[f'rides_previous_{4*7*24}_hour']\n",
    "    )\n",
    "    return X\n",
    "     "
   ],
   "metadata": {
    "collapsed": false,
    "ExecuteTime": {
     "end_time": "2023-11-08T21:13:01.476163667Z",
     "start_time": "2023-11-08T21:13:01.472950140Z"
    }
   },
   "id": "4fda0e25e22e3fbe"
  },
  {
   "cell_type": "code",
   "execution_count": 12,
   "outputs": [],
   "source": [
    "\n",
    "from sklearn.preprocessing import FunctionTransformer\n",
    "\n",
    "add_feature_average_rides_last_4_weeks = FunctionTransformer(\n",
    "    average_rides_last_4_weeks, validate=False)"
   ],
   "metadata": {
    "collapsed": false,
    "ExecuteTime": {
     "end_time": "2023-11-08T21:15:35.556846679Z",
     "start_time": "2023-11-08T21:15:35.516401656Z"
    }
   },
   "id": "6ce28d0adbab0433"
  },
  {
   "cell_type": "code",
   "execution_count": 13,
   "outputs": [
    {
     "data": {
      "text/plain": "       rides_previous_672_hour  rides_previous_671_hour  \\\n0                          0.0                      0.0   \n1                          0.0                      0.0   \n2                          0.0                      0.0   \n3                          0.0                      0.0   \n4                          0.0                      0.0   \n...                        ...                      ...   \n32590                     10.0                      7.0   \n32591                      6.0                      5.0   \n32592                      8.0                      6.0   \n32593                      4.0                      2.0   \n32594                      5.0                      7.0   \n\n       rides_previous_670_hour  rides_previous_669_hour  \\\n0                          0.0                      0.0   \n1                          0.0                      0.0   \n2                          0.0                      0.0   \n3                          0.0                      0.0   \n4                          0.0                      0.0   \n...                        ...                      ...   \n32590                      4.0                      5.0   \n32591                      5.0                      0.0   \n32592                      2.0                      5.0   \n32593                      5.0                      3.0   \n32594                      4.0                      1.0   \n\n       rides_previous_668_hour  rides_previous_667_hour  \\\n0                          1.0                      1.0   \n1                          0.0                      4.0   \n2                          0.0                      0.0   \n3                          0.0                      0.0   \n4                          0.0                      0.0   \n...                        ...                      ...   \n32590                     10.0                      4.0   \n32591                      6.0                      4.0   \n32592                      4.0                      3.0   \n32593                      1.0                      7.0   \n32594                      2.0                      5.0   \n\n       rides_previous_666_hour  rides_previous_665_hour  \\\n0                          0.0                      2.0   \n1                          1.0                      2.0   \n2                          0.0                      2.0   \n3                          0.0                      0.0   \n4                          0.0                      0.0   \n...                        ...                      ...   \n32590                      9.0                     15.0   \n32591                      1.0                      3.0   \n32592                      2.0                      3.0   \n32593                     15.0                     18.0   \n32594                     22.0                     20.0   \n\n       rides_previous_664_hour  rides_previous_663_hour  ...  \\\n0                          0.0                      0.0  ...   \n1                          1.0                      2.0  ...   \n2                          0.0                      0.0  ...   \n3                          1.0                      1.0  ...   \n4                          0.0                      0.0  ...   \n...                        ...                      ...  ...   \n32590                     15.0                     13.0  ...   \n32591                      3.0                     10.0  ...   \n32592                     15.0                     14.0  ...   \n32593                     17.0                     14.0  ...   \n32594                     20.0                     24.0  ...   \n\n       rides_previous_7_hour  rides_previous_6_hour  rides_previous_5_hour  \\\n0                        2.0                    0.0                    1.0   \n1                        0.0                    0.0                    0.0   \n2                        0.0                    1.0                    2.0   \n3                        2.0                    1.0                    0.0   \n4                        0.0                    0.0                    0.0   \n...                      ...                    ...                    ...   \n32590                   23.0                   12.0                    8.0   \n32591                   19.0                   20.0                    9.0   \n32592                    9.0                    6.0                    5.0   \n32593                    7.0                    8.0                   13.0   \n32594                   14.0                   11.0                   12.0   \n\n       rides_previous_4_hour  rides_previous_3_hour  rides_previous_2_hour  \\\n0                        0.0                    0.0                    0.0   \n1                        0.0                    1.0                    0.0   \n2                        0.0                    0.0                    0.0   \n3                        1.0                    1.0                    0.0   \n4                        0.0                    0.0                    0.0   \n...                      ...                    ...                    ...   \n32590                    8.0                    4.0                    5.0   \n32591                    5.0                    6.0                    7.0   \n32592                    3.0                    3.0                   11.0   \n32593                   11.0                    5.0                    4.0   \n32594                    7.0                    8.0                    6.0   \n\n       rides_previous_1_hour  pickup_hour  pickup_location_id  \\\n0                        0.0   2022-01-29                   1   \n1                        0.0   2022-01-30                   1   \n2                        0.0   2022-01-31                   1   \n3                        0.0   2022-02-01                   1   \n4                        0.0   2022-02-02                   1   \n...                      ...          ...                 ...   \n32590                    7.0   2022-05-27                 265   \n32591                    2.0   2022-05-28                 265   \n32592                    5.0   2022-05-29                 265   \n32593                    4.0   2022-05-30                 265   \n32594                    7.0   2022-05-31                 265   \n\n       average_rides_last_4_weeks  \n0                            0.00  \n1                            0.00  \n2                            0.00  \n3                            0.00  \n4                            0.00  \n...                           ...  \n32590                        7.00  \n32591                        7.25  \n32592                        8.75  \n32593                        6.00  \n32594                        5.50  \n\n[32595 rows x 675 columns]",
      "text/html": "<div>\n<style scoped>\n    .dataframe tbody tr th:only-of-type {\n        vertical-align: middle;\n    }\n\n    .dataframe tbody tr th {\n        vertical-align: top;\n    }\n\n    .dataframe thead th {\n        text-align: right;\n    }\n</style>\n<table border=\"1\" class=\"dataframe\">\n  <thead>\n    <tr style=\"text-align: right;\">\n      <th></th>\n      <th>rides_previous_672_hour</th>\n      <th>rides_previous_671_hour</th>\n      <th>rides_previous_670_hour</th>\n      <th>rides_previous_669_hour</th>\n      <th>rides_previous_668_hour</th>\n      <th>rides_previous_667_hour</th>\n      <th>rides_previous_666_hour</th>\n      <th>rides_previous_665_hour</th>\n      <th>rides_previous_664_hour</th>\n      <th>rides_previous_663_hour</th>\n      <th>...</th>\n      <th>rides_previous_7_hour</th>\n      <th>rides_previous_6_hour</th>\n      <th>rides_previous_5_hour</th>\n      <th>rides_previous_4_hour</th>\n      <th>rides_previous_3_hour</th>\n      <th>rides_previous_2_hour</th>\n      <th>rides_previous_1_hour</th>\n      <th>pickup_hour</th>\n      <th>pickup_location_id</th>\n      <th>average_rides_last_4_weeks</th>\n    </tr>\n  </thead>\n  <tbody>\n    <tr>\n      <th>0</th>\n      <td>0.0</td>\n      <td>0.0</td>\n      <td>0.0</td>\n      <td>0.0</td>\n      <td>1.0</td>\n      <td>1.0</td>\n      <td>0.0</td>\n      <td>2.0</td>\n      <td>0.0</td>\n      <td>0.0</td>\n      <td>...</td>\n      <td>2.0</td>\n      <td>0.0</td>\n      <td>1.0</td>\n      <td>0.0</td>\n      <td>0.0</td>\n      <td>0.0</td>\n      <td>0.0</td>\n      <td>2022-01-29</td>\n      <td>1</td>\n      <td>0.00</td>\n    </tr>\n    <tr>\n      <th>1</th>\n      <td>0.0</td>\n      <td>0.0</td>\n      <td>0.0</td>\n      <td>0.0</td>\n      <td>0.0</td>\n      <td>4.0</td>\n      <td>1.0</td>\n      <td>2.0</td>\n      <td>1.0</td>\n      <td>2.0</td>\n      <td>...</td>\n      <td>0.0</td>\n      <td>0.0</td>\n      <td>0.0</td>\n      <td>0.0</td>\n      <td>1.0</td>\n      <td>0.0</td>\n      <td>0.0</td>\n      <td>2022-01-30</td>\n      <td>1</td>\n      <td>0.00</td>\n    </tr>\n    <tr>\n      <th>2</th>\n      <td>0.0</td>\n      <td>0.0</td>\n      <td>0.0</td>\n      <td>0.0</td>\n      <td>0.0</td>\n      <td>0.0</td>\n      <td>0.0</td>\n      <td>2.0</td>\n      <td>0.0</td>\n      <td>0.0</td>\n      <td>...</td>\n      <td>0.0</td>\n      <td>1.0</td>\n      <td>2.0</td>\n      <td>0.0</td>\n      <td>0.0</td>\n      <td>0.0</td>\n      <td>0.0</td>\n      <td>2022-01-31</td>\n      <td>1</td>\n      <td>0.00</td>\n    </tr>\n    <tr>\n      <th>3</th>\n      <td>0.0</td>\n      <td>0.0</td>\n      <td>0.0</td>\n      <td>0.0</td>\n      <td>0.0</td>\n      <td>0.0</td>\n      <td>0.0</td>\n      <td>0.0</td>\n      <td>1.0</td>\n      <td>1.0</td>\n      <td>...</td>\n      <td>2.0</td>\n      <td>1.0</td>\n      <td>0.0</td>\n      <td>1.0</td>\n      <td>1.0</td>\n      <td>0.0</td>\n      <td>0.0</td>\n      <td>2022-02-01</td>\n      <td>1</td>\n      <td>0.00</td>\n    </tr>\n    <tr>\n      <th>4</th>\n      <td>0.0</td>\n      <td>0.0</td>\n      <td>0.0</td>\n      <td>0.0</td>\n      <td>0.0</td>\n      <td>0.0</td>\n      <td>0.0</td>\n      <td>0.0</td>\n      <td>0.0</td>\n      <td>0.0</td>\n      <td>...</td>\n      <td>0.0</td>\n      <td>0.0</td>\n      <td>0.0</td>\n      <td>0.0</td>\n      <td>0.0</td>\n      <td>0.0</td>\n      <td>0.0</td>\n      <td>2022-02-02</td>\n      <td>1</td>\n      <td>0.00</td>\n    </tr>\n    <tr>\n      <th>...</th>\n      <td>...</td>\n      <td>...</td>\n      <td>...</td>\n      <td>...</td>\n      <td>...</td>\n      <td>...</td>\n      <td>...</td>\n      <td>...</td>\n      <td>...</td>\n      <td>...</td>\n      <td>...</td>\n      <td>...</td>\n      <td>...</td>\n      <td>...</td>\n      <td>...</td>\n      <td>...</td>\n      <td>...</td>\n      <td>...</td>\n      <td>...</td>\n      <td>...</td>\n      <td>...</td>\n    </tr>\n    <tr>\n      <th>32590</th>\n      <td>10.0</td>\n      <td>7.0</td>\n      <td>4.0</td>\n      <td>5.0</td>\n      <td>10.0</td>\n      <td>4.0</td>\n      <td>9.0</td>\n      <td>15.0</td>\n      <td>15.0</td>\n      <td>13.0</td>\n      <td>...</td>\n      <td>23.0</td>\n      <td>12.0</td>\n      <td>8.0</td>\n      <td>8.0</td>\n      <td>4.0</td>\n      <td>5.0</td>\n      <td>7.0</td>\n      <td>2022-05-27</td>\n      <td>265</td>\n      <td>7.00</td>\n    </tr>\n    <tr>\n      <th>32591</th>\n      <td>6.0</td>\n      <td>5.0</td>\n      <td>5.0</td>\n      <td>0.0</td>\n      <td>6.0</td>\n      <td>4.0</td>\n      <td>1.0</td>\n      <td>3.0</td>\n      <td>3.0</td>\n      <td>10.0</td>\n      <td>...</td>\n      <td>19.0</td>\n      <td>20.0</td>\n      <td>9.0</td>\n      <td>5.0</td>\n      <td>6.0</td>\n      <td>7.0</td>\n      <td>2.0</td>\n      <td>2022-05-28</td>\n      <td>265</td>\n      <td>7.25</td>\n    </tr>\n    <tr>\n      <th>32592</th>\n      <td>8.0</td>\n      <td>6.0</td>\n      <td>2.0</td>\n      <td>5.0</td>\n      <td>4.0</td>\n      <td>3.0</td>\n      <td>2.0</td>\n      <td>3.0</td>\n      <td>15.0</td>\n      <td>14.0</td>\n      <td>...</td>\n      <td>9.0</td>\n      <td>6.0</td>\n      <td>5.0</td>\n      <td>3.0</td>\n      <td>3.0</td>\n      <td>11.0</td>\n      <td>5.0</td>\n      <td>2022-05-29</td>\n      <td>265</td>\n      <td>8.75</td>\n    </tr>\n    <tr>\n      <th>32593</th>\n      <td>4.0</td>\n      <td>2.0</td>\n      <td>5.0</td>\n      <td>3.0</td>\n      <td>1.0</td>\n      <td>7.0</td>\n      <td>15.0</td>\n      <td>18.0</td>\n      <td>17.0</td>\n      <td>14.0</td>\n      <td>...</td>\n      <td>7.0</td>\n      <td>8.0</td>\n      <td>13.0</td>\n      <td>11.0</td>\n      <td>5.0</td>\n      <td>4.0</td>\n      <td>4.0</td>\n      <td>2022-05-30</td>\n      <td>265</td>\n      <td>6.00</td>\n    </tr>\n    <tr>\n      <th>32594</th>\n      <td>5.0</td>\n      <td>7.0</td>\n      <td>4.0</td>\n      <td>1.0</td>\n      <td>2.0</td>\n      <td>5.0</td>\n      <td>22.0</td>\n      <td>20.0</td>\n      <td>20.0</td>\n      <td>24.0</td>\n      <td>...</td>\n      <td>14.0</td>\n      <td>11.0</td>\n      <td>12.0</td>\n      <td>7.0</td>\n      <td>8.0</td>\n      <td>6.0</td>\n      <td>7.0</td>\n      <td>2022-05-31</td>\n      <td>265</td>\n      <td>5.50</td>\n    </tr>\n  </tbody>\n</table>\n<p>32595 rows × 675 columns</p>\n</div>"
     },
     "execution_count": 13,
     "metadata": {},
     "output_type": "execute_result"
    }
   ],
   "source": [
    "add_feature_average_rides_last_4_weeks.fit_transform(X_train)"
   ],
   "metadata": {
    "collapsed": false,
    "ExecuteTime": {
     "end_time": "2023-11-08T21:15:35.948184973Z",
     "start_time": "2023-11-08T21:15:35.934945898Z"
    }
   },
   "id": "81209cae73dc743"
  },
  {
   "cell_type": "code",
   "execution_count": 14,
   "outputs": [],
   "source": [
    "\n",
    "from sklearn.base import BaseEstimator, TransformerMixin\n",
    "\n",
    "class TemporalFeaturesEngineer(BaseEstimator, TransformerMixin):\n",
    "\n",
    "    def fit(self, X, y=None):\n",
    "        return self\n",
    "\n",
    "    def transform(self, X, y=None):\n",
    "\n",
    "        X_ = X.copy()\n",
    "\n",
    "        # Generate numeric columns from datetime\n",
    "        X_[\"hour\"] = X_['pickup_hour'].dt.hour\n",
    "        X_[\"day_of_week\"] = X_['pickup_hour'].dt.dayofweek\n",
    "\n",
    "        return X_.drop(columns=['pickup_hour'])"
   ],
   "metadata": {
    "collapsed": false,
    "ExecuteTime": {
     "end_time": "2023-11-08T21:16:22.264825600Z",
     "start_time": "2023-11-08T21:16:22.223671705Z"
    }
   },
   "id": "66de4330c605a25f"
  },
  {
   "cell_type": "code",
   "execution_count": 15,
   "outputs": [
    {
     "data": {
      "text/plain": "       rides_previous_672_hour  rides_previous_671_hour  \\\n0                          0.0                      0.0   \n1                          0.0                      0.0   \n2                          0.0                      0.0   \n3                          0.0                      0.0   \n4                          0.0                      0.0   \n...                        ...                      ...   \n32590                     10.0                      7.0   \n32591                      6.0                      5.0   \n32592                      8.0                      6.0   \n32593                      4.0                      2.0   \n32594                      5.0                      7.0   \n\n       rides_previous_670_hour  rides_previous_669_hour  \\\n0                          0.0                      0.0   \n1                          0.0                      0.0   \n2                          0.0                      0.0   \n3                          0.0                      0.0   \n4                          0.0                      0.0   \n...                        ...                      ...   \n32590                      4.0                      5.0   \n32591                      5.0                      0.0   \n32592                      2.0                      5.0   \n32593                      5.0                      3.0   \n32594                      4.0                      1.0   \n\n       rides_previous_668_hour  rides_previous_667_hour  \\\n0                          1.0                      1.0   \n1                          0.0                      4.0   \n2                          0.0                      0.0   \n3                          0.0                      0.0   \n4                          0.0                      0.0   \n...                        ...                      ...   \n32590                     10.0                      4.0   \n32591                      6.0                      4.0   \n32592                      4.0                      3.0   \n32593                      1.0                      7.0   \n32594                      2.0                      5.0   \n\n       rides_previous_666_hour  rides_previous_665_hour  \\\n0                          0.0                      2.0   \n1                          1.0                      2.0   \n2                          0.0                      2.0   \n3                          0.0                      0.0   \n4                          0.0                      0.0   \n...                        ...                      ...   \n32590                      9.0                     15.0   \n32591                      1.0                      3.0   \n32592                      2.0                      3.0   \n32593                     15.0                     18.0   \n32594                     22.0                     20.0   \n\n       rides_previous_664_hour  rides_previous_663_hour  ...  \\\n0                          0.0                      0.0  ...   \n1                          1.0                      2.0  ...   \n2                          0.0                      0.0  ...   \n3                          1.0                      1.0  ...   \n4                          0.0                      0.0  ...   \n...                        ...                      ...  ...   \n32590                     15.0                     13.0  ...   \n32591                      3.0                     10.0  ...   \n32592                     15.0                     14.0  ...   \n32593                     17.0                     14.0  ...   \n32594                     20.0                     24.0  ...   \n\n       rides_previous_6_hour  rides_previous_5_hour  rides_previous_4_hour  \\\n0                        0.0                    1.0                    0.0   \n1                        0.0                    0.0                    0.0   \n2                        1.0                    2.0                    0.0   \n3                        1.0                    0.0                    1.0   \n4                        0.0                    0.0                    0.0   \n...                      ...                    ...                    ...   \n32590                   12.0                    8.0                    8.0   \n32591                   20.0                    9.0                    5.0   \n32592                    6.0                    5.0                    3.0   \n32593                    8.0                   13.0                   11.0   \n32594                   11.0                   12.0                    7.0   \n\n       rides_previous_3_hour  rides_previous_2_hour  rides_previous_1_hour  \\\n0                        0.0                    0.0                    0.0   \n1                        1.0                    0.0                    0.0   \n2                        0.0                    0.0                    0.0   \n3                        1.0                    0.0                    0.0   \n4                        0.0                    0.0                    0.0   \n...                      ...                    ...                    ...   \n32590                    4.0                    5.0                    7.0   \n32591                    6.0                    7.0                    2.0   \n32592                    3.0                   11.0                    5.0   \n32593                    5.0                    4.0                    4.0   \n32594                    8.0                    6.0                    7.0   \n\n       pickup_location_id  average_rides_last_4_weeks  hour  day_of_week  \n0                       1                        0.00     0            5  \n1                       1                        0.00     0            6  \n2                       1                        0.00     0            0  \n3                       1                        0.00     0            1  \n4                       1                        0.00     0            2  \n...                   ...                         ...   ...          ...  \n32590                 265                        7.00     0            4  \n32591                 265                        7.25     0            5  \n32592                 265                        8.75     0            6  \n32593                 265                        6.00     0            0  \n32594                 265                        5.50     0            1  \n\n[32595 rows x 676 columns]",
      "text/html": "<div>\n<style scoped>\n    .dataframe tbody tr th:only-of-type {\n        vertical-align: middle;\n    }\n\n    .dataframe tbody tr th {\n        vertical-align: top;\n    }\n\n    .dataframe thead th {\n        text-align: right;\n    }\n</style>\n<table border=\"1\" class=\"dataframe\">\n  <thead>\n    <tr style=\"text-align: right;\">\n      <th></th>\n      <th>rides_previous_672_hour</th>\n      <th>rides_previous_671_hour</th>\n      <th>rides_previous_670_hour</th>\n      <th>rides_previous_669_hour</th>\n      <th>rides_previous_668_hour</th>\n      <th>rides_previous_667_hour</th>\n      <th>rides_previous_666_hour</th>\n      <th>rides_previous_665_hour</th>\n      <th>rides_previous_664_hour</th>\n      <th>rides_previous_663_hour</th>\n      <th>...</th>\n      <th>rides_previous_6_hour</th>\n      <th>rides_previous_5_hour</th>\n      <th>rides_previous_4_hour</th>\n      <th>rides_previous_3_hour</th>\n      <th>rides_previous_2_hour</th>\n      <th>rides_previous_1_hour</th>\n      <th>pickup_location_id</th>\n      <th>average_rides_last_4_weeks</th>\n      <th>hour</th>\n      <th>day_of_week</th>\n    </tr>\n  </thead>\n  <tbody>\n    <tr>\n      <th>0</th>\n      <td>0.0</td>\n      <td>0.0</td>\n      <td>0.0</td>\n      <td>0.0</td>\n      <td>1.0</td>\n      <td>1.0</td>\n      <td>0.0</td>\n      <td>2.0</td>\n      <td>0.0</td>\n      <td>0.0</td>\n      <td>...</td>\n      <td>0.0</td>\n      <td>1.0</td>\n      <td>0.0</td>\n      <td>0.0</td>\n      <td>0.0</td>\n      <td>0.0</td>\n      <td>1</td>\n      <td>0.00</td>\n      <td>0</td>\n      <td>5</td>\n    </tr>\n    <tr>\n      <th>1</th>\n      <td>0.0</td>\n      <td>0.0</td>\n      <td>0.0</td>\n      <td>0.0</td>\n      <td>0.0</td>\n      <td>4.0</td>\n      <td>1.0</td>\n      <td>2.0</td>\n      <td>1.0</td>\n      <td>2.0</td>\n      <td>...</td>\n      <td>0.0</td>\n      <td>0.0</td>\n      <td>0.0</td>\n      <td>1.0</td>\n      <td>0.0</td>\n      <td>0.0</td>\n      <td>1</td>\n      <td>0.00</td>\n      <td>0</td>\n      <td>6</td>\n    </tr>\n    <tr>\n      <th>2</th>\n      <td>0.0</td>\n      <td>0.0</td>\n      <td>0.0</td>\n      <td>0.0</td>\n      <td>0.0</td>\n      <td>0.0</td>\n      <td>0.0</td>\n      <td>2.0</td>\n      <td>0.0</td>\n      <td>0.0</td>\n      <td>...</td>\n      <td>1.0</td>\n      <td>2.0</td>\n      <td>0.0</td>\n      <td>0.0</td>\n      <td>0.0</td>\n      <td>0.0</td>\n      <td>1</td>\n      <td>0.00</td>\n      <td>0</td>\n      <td>0</td>\n    </tr>\n    <tr>\n      <th>3</th>\n      <td>0.0</td>\n      <td>0.0</td>\n      <td>0.0</td>\n      <td>0.0</td>\n      <td>0.0</td>\n      <td>0.0</td>\n      <td>0.0</td>\n      <td>0.0</td>\n      <td>1.0</td>\n      <td>1.0</td>\n      <td>...</td>\n      <td>1.0</td>\n      <td>0.0</td>\n      <td>1.0</td>\n      <td>1.0</td>\n      <td>0.0</td>\n      <td>0.0</td>\n      <td>1</td>\n      <td>0.00</td>\n      <td>0</td>\n      <td>1</td>\n    </tr>\n    <tr>\n      <th>4</th>\n      <td>0.0</td>\n      <td>0.0</td>\n      <td>0.0</td>\n      <td>0.0</td>\n      <td>0.0</td>\n      <td>0.0</td>\n      <td>0.0</td>\n      <td>0.0</td>\n      <td>0.0</td>\n      <td>0.0</td>\n      <td>...</td>\n      <td>0.0</td>\n      <td>0.0</td>\n      <td>0.0</td>\n      <td>0.0</td>\n      <td>0.0</td>\n      <td>0.0</td>\n      <td>1</td>\n      <td>0.00</td>\n      <td>0</td>\n      <td>2</td>\n    </tr>\n    <tr>\n      <th>...</th>\n      <td>...</td>\n      <td>...</td>\n      <td>...</td>\n      <td>...</td>\n      <td>...</td>\n      <td>...</td>\n      <td>...</td>\n      <td>...</td>\n      <td>...</td>\n      <td>...</td>\n      <td>...</td>\n      <td>...</td>\n      <td>...</td>\n      <td>...</td>\n      <td>...</td>\n      <td>...</td>\n      <td>...</td>\n      <td>...</td>\n      <td>...</td>\n      <td>...</td>\n      <td>...</td>\n    </tr>\n    <tr>\n      <th>32590</th>\n      <td>10.0</td>\n      <td>7.0</td>\n      <td>4.0</td>\n      <td>5.0</td>\n      <td>10.0</td>\n      <td>4.0</td>\n      <td>9.0</td>\n      <td>15.0</td>\n      <td>15.0</td>\n      <td>13.0</td>\n      <td>...</td>\n      <td>12.0</td>\n      <td>8.0</td>\n      <td>8.0</td>\n      <td>4.0</td>\n      <td>5.0</td>\n      <td>7.0</td>\n      <td>265</td>\n      <td>7.00</td>\n      <td>0</td>\n      <td>4</td>\n    </tr>\n    <tr>\n      <th>32591</th>\n      <td>6.0</td>\n      <td>5.0</td>\n      <td>5.0</td>\n      <td>0.0</td>\n      <td>6.0</td>\n      <td>4.0</td>\n      <td>1.0</td>\n      <td>3.0</td>\n      <td>3.0</td>\n      <td>10.0</td>\n      <td>...</td>\n      <td>20.0</td>\n      <td>9.0</td>\n      <td>5.0</td>\n      <td>6.0</td>\n      <td>7.0</td>\n      <td>2.0</td>\n      <td>265</td>\n      <td>7.25</td>\n      <td>0</td>\n      <td>5</td>\n    </tr>\n    <tr>\n      <th>32592</th>\n      <td>8.0</td>\n      <td>6.0</td>\n      <td>2.0</td>\n      <td>5.0</td>\n      <td>4.0</td>\n      <td>3.0</td>\n      <td>2.0</td>\n      <td>3.0</td>\n      <td>15.0</td>\n      <td>14.0</td>\n      <td>...</td>\n      <td>6.0</td>\n      <td>5.0</td>\n      <td>3.0</td>\n      <td>3.0</td>\n      <td>11.0</td>\n      <td>5.0</td>\n      <td>265</td>\n      <td>8.75</td>\n      <td>0</td>\n      <td>6</td>\n    </tr>\n    <tr>\n      <th>32593</th>\n      <td>4.0</td>\n      <td>2.0</td>\n      <td>5.0</td>\n      <td>3.0</td>\n      <td>1.0</td>\n      <td>7.0</td>\n      <td>15.0</td>\n      <td>18.0</td>\n      <td>17.0</td>\n      <td>14.0</td>\n      <td>...</td>\n      <td>8.0</td>\n      <td>13.0</td>\n      <td>11.0</td>\n      <td>5.0</td>\n      <td>4.0</td>\n      <td>4.0</td>\n      <td>265</td>\n      <td>6.00</td>\n      <td>0</td>\n      <td>0</td>\n    </tr>\n    <tr>\n      <th>32594</th>\n      <td>5.0</td>\n      <td>7.0</td>\n      <td>4.0</td>\n      <td>1.0</td>\n      <td>2.0</td>\n      <td>5.0</td>\n      <td>22.0</td>\n      <td>20.0</td>\n      <td>20.0</td>\n      <td>24.0</td>\n      <td>...</td>\n      <td>11.0</td>\n      <td>12.0</td>\n      <td>7.0</td>\n      <td>8.0</td>\n      <td>6.0</td>\n      <td>7.0</td>\n      <td>265</td>\n      <td>5.50</td>\n      <td>0</td>\n      <td>1</td>\n    </tr>\n  </tbody>\n</table>\n<p>32595 rows × 676 columns</p>\n</div>"
     },
     "execution_count": 15,
     "metadata": {},
     "output_type": "execute_result"
    }
   ],
   "source": [
    "add_temporal_features = TemporalFeaturesEngineer()\n",
    "add_temporal_features.fit_transform(X_train)"
   ],
   "metadata": {
    "collapsed": false,
    "ExecuteTime": {
     "end_time": "2023-11-08T21:16:29.854406766Z",
     "start_time": "2023-11-08T21:16:29.475181450Z"
    }
   },
   "id": "100be7db88e74304"
  },
  {
   "cell_type": "code",
   "execution_count": 16,
   "outputs": [],
   "source": [
    "import lightgbm as lgb\n"
   ],
   "metadata": {
    "collapsed": false,
    "ExecuteTime": {
     "end_time": "2023-11-08T21:18:08.786818648Z",
     "start_time": "2023-11-08T21:18:08.745962123Z"
    }
   },
   "id": "7bf4e963e8b8ef43"
  },
  {
   "cell_type": "code",
   "execution_count": 17,
   "outputs": [
    {
     "name": "stdout",
     "output_type": "stream",
     "text": [
      "[LightGBM] [Info] Auto-choosing col-wise multi-threading, the overhead of testing was 0.034201 seconds.\n",
      "You can set `force_col_wise=true` to remove the overhead.\n",
      "[LightGBM] [Info] Total Bins 154527\n",
      "[LightGBM] [Info] Number of data points in the train set: 32595, number of used features: 675\n",
      "[LightGBM] [Info] Start training from score 11.571069\n"
     ]
    },
    {
     "data": {
      "text/plain": "Pipeline(steps=[('functiontransformer',\n                 FunctionTransformer(func=<function average_rides_last_4_weeks at 0x7ff6b122cea0>)),\n                ('temporalfeaturesengineer', TemporalFeaturesEngineer()),\n                ('lgbmregressor', LGBMRegressor())])",
      "text/html": "<style>#sk-container-id-1 {color: black;}#sk-container-id-1 pre{padding: 0;}#sk-container-id-1 div.sk-toggleable {background-color: white;}#sk-container-id-1 label.sk-toggleable__label {cursor: pointer;display: block;width: 100%;margin-bottom: 0;padding: 0.3em;box-sizing: border-box;text-align: center;}#sk-container-id-1 label.sk-toggleable__label-arrow:before {content: \"▸\";float: left;margin-right: 0.25em;color: #696969;}#sk-container-id-1 label.sk-toggleable__label-arrow:hover:before {color: black;}#sk-container-id-1 div.sk-estimator:hover label.sk-toggleable__label-arrow:before {color: black;}#sk-container-id-1 div.sk-toggleable__content {max-height: 0;max-width: 0;overflow: hidden;text-align: left;background-color: #f0f8ff;}#sk-container-id-1 div.sk-toggleable__content pre {margin: 0.2em;color: black;border-radius: 0.25em;background-color: #f0f8ff;}#sk-container-id-1 input.sk-toggleable__control:checked~div.sk-toggleable__content {max-height: 200px;max-width: 100%;overflow: auto;}#sk-container-id-1 input.sk-toggleable__control:checked~label.sk-toggleable__label-arrow:before {content: \"▾\";}#sk-container-id-1 div.sk-estimator input.sk-toggleable__control:checked~label.sk-toggleable__label {background-color: #d4ebff;}#sk-container-id-1 div.sk-label input.sk-toggleable__control:checked~label.sk-toggleable__label {background-color: #d4ebff;}#sk-container-id-1 input.sk-hidden--visually {border: 0;clip: rect(1px 1px 1px 1px);clip: rect(1px, 1px, 1px, 1px);height: 1px;margin: -1px;overflow: hidden;padding: 0;position: absolute;width: 1px;}#sk-container-id-1 div.sk-estimator {font-family: monospace;background-color: #f0f8ff;border: 1px dotted black;border-radius: 0.25em;box-sizing: border-box;margin-bottom: 0.5em;}#sk-container-id-1 div.sk-estimator:hover {background-color: #d4ebff;}#sk-container-id-1 div.sk-parallel-item::after {content: \"\";width: 100%;border-bottom: 1px solid gray;flex-grow: 1;}#sk-container-id-1 div.sk-label:hover label.sk-toggleable__label {background-color: #d4ebff;}#sk-container-id-1 div.sk-serial::before {content: \"\";position: absolute;border-left: 1px solid gray;box-sizing: border-box;top: 0;bottom: 0;left: 50%;z-index: 0;}#sk-container-id-1 div.sk-serial {display: flex;flex-direction: column;align-items: center;background-color: white;padding-right: 0.2em;padding-left: 0.2em;position: relative;}#sk-container-id-1 div.sk-item {position: relative;z-index: 1;}#sk-container-id-1 div.sk-parallel {display: flex;align-items: stretch;justify-content: center;background-color: white;position: relative;}#sk-container-id-1 div.sk-item::before, #sk-container-id-1 div.sk-parallel-item::before {content: \"\";position: absolute;border-left: 1px solid gray;box-sizing: border-box;top: 0;bottom: 0;left: 50%;z-index: -1;}#sk-container-id-1 div.sk-parallel-item {display: flex;flex-direction: column;z-index: 1;position: relative;background-color: white;}#sk-container-id-1 div.sk-parallel-item:first-child::after {align-self: flex-end;width: 50%;}#sk-container-id-1 div.sk-parallel-item:last-child::after {align-self: flex-start;width: 50%;}#sk-container-id-1 div.sk-parallel-item:only-child::after {width: 0;}#sk-container-id-1 div.sk-dashed-wrapped {border: 1px dashed gray;margin: 0 0.4em 0.5em 0.4em;box-sizing: border-box;padding-bottom: 0.4em;background-color: white;}#sk-container-id-1 div.sk-label label {font-family: monospace;font-weight: bold;display: inline-block;line-height: 1.2em;}#sk-container-id-1 div.sk-label-container {text-align: center;}#sk-container-id-1 div.sk-container {/* jupyter's `normalize.less` sets `[hidden] { display: none; }` but bootstrap.min.css set `[hidden] { display: none !important; }` so we also need the `!important` here to be able to override the default hidden behavior on the sphinx rendered scikit-learn.org. See: https://github.com/scikit-learn/scikit-learn/issues/21755 */display: inline-block !important;position: relative;}#sk-container-id-1 div.sk-text-repr-fallback {display: none;}</style><div id=\"sk-container-id-1\" class=\"sk-top-container\"><div class=\"sk-text-repr-fallback\"><pre>Pipeline(steps=[(&#x27;functiontransformer&#x27;,\n                 FunctionTransformer(func=&lt;function average_rides_last_4_weeks at 0x7ff6b122cea0&gt;)),\n                (&#x27;temporalfeaturesengineer&#x27;, TemporalFeaturesEngineer()),\n                (&#x27;lgbmregressor&#x27;, LGBMRegressor())])</pre><b>In a Jupyter environment, please rerun this cell to show the HTML representation or trust the notebook. <br />On GitHub, the HTML representation is unable to render, please try loading this page with nbviewer.org.</b></div><div class=\"sk-container\" hidden><div class=\"sk-item sk-dashed-wrapped\"><div class=\"sk-label-container\"><div class=\"sk-label sk-toggleable\"><input class=\"sk-toggleable__control sk-hidden--visually\" id=\"sk-estimator-id-1\" type=\"checkbox\" ><label for=\"sk-estimator-id-1\" class=\"sk-toggleable__label sk-toggleable__label-arrow\">Pipeline</label><div class=\"sk-toggleable__content\"><pre>Pipeline(steps=[(&#x27;functiontransformer&#x27;,\n                 FunctionTransformer(func=&lt;function average_rides_last_4_weeks at 0x7ff6b122cea0&gt;)),\n                (&#x27;temporalfeaturesengineer&#x27;, TemporalFeaturesEngineer()),\n                (&#x27;lgbmregressor&#x27;, LGBMRegressor())])</pre></div></div></div><div class=\"sk-serial\"><div class=\"sk-item\"><div class=\"sk-estimator sk-toggleable\"><input class=\"sk-toggleable__control sk-hidden--visually\" id=\"sk-estimator-id-2\" type=\"checkbox\" ><label for=\"sk-estimator-id-2\" class=\"sk-toggleable__label sk-toggleable__label-arrow\">FunctionTransformer</label><div class=\"sk-toggleable__content\"><pre>FunctionTransformer(func=&lt;function average_rides_last_4_weeks at 0x7ff6b122cea0&gt;)</pre></div></div></div><div class=\"sk-item\"><div class=\"sk-estimator sk-toggleable\"><input class=\"sk-toggleable__control sk-hidden--visually\" id=\"sk-estimator-id-3\" type=\"checkbox\" ><label for=\"sk-estimator-id-3\" class=\"sk-toggleable__label sk-toggleable__label-arrow\">TemporalFeaturesEngineer</label><div class=\"sk-toggleable__content\"><pre>TemporalFeaturesEngineer()</pre></div></div></div><div class=\"sk-item\"><div class=\"sk-estimator sk-toggleable\"><input class=\"sk-toggleable__control sk-hidden--visually\" id=\"sk-estimator-id-4\" type=\"checkbox\" ><label for=\"sk-estimator-id-4\" class=\"sk-toggleable__label sk-toggleable__label-arrow\">LGBMRegressor</label><div class=\"sk-toggleable__content\"><pre>LGBMRegressor()</pre></div></div></div></div></div></div></div>"
     },
     "execution_count": 17,
     "metadata": {},
     "output_type": "execute_result"
    }
   ],
   "source": [
    "from sklearn.pipeline import make_pipeline\n",
    "\n",
    "pipeline = make_pipeline(\n",
    "    add_feature_average_rides_last_4_weeks,\n",
    "    add_temporal_features,\n",
    "    lgb.LGBMRegressor()\n",
    ")\n",
    "pipeline.fit(X_train, y_train)"
   ],
   "metadata": {
    "collapsed": false,
    "ExecuteTime": {
     "end_time": "2023-11-08T21:18:18.317456463Z",
     "start_time": "2023-11-08T21:18:16.060656265Z"
    }
   },
   "id": "a7b9815e4d398279"
  },
  {
   "cell_type": "code",
   "execution_count": 18,
   "outputs": [
    {
     "name": "stdout",
     "output_type": "stream",
     "text": [
      "test_mae=2.5947\n"
     ]
    }
   ],
   "source": [
    "predictions = pipeline.predict(X_test)\n",
    "\n",
    "from sklearn.metrics import mean_absolute_error\n",
    "test_mae = mean_absolute_error(y_test, predictions)\n",
    "print(f'{test_mae=:.4f}')"
   ],
   "metadata": {
    "collapsed": false,
    "ExecuteTime": {
     "end_time": "2023-11-08T21:18:40.744649860Z",
     "start_time": "2023-11-08T21:18:39.407649253Z"
    }
   },
   "id": "54c6a00dd5fcb6d3"
  }
 ],
 "metadata": {
  "kernelspec": {
   "display_name": "Python 3",
   "language": "python",
   "name": "python3"
  },
  "language_info": {
   "codemirror_mode": {
    "name": "ipython",
    "version": 2
   },
   "file_extension": ".py",
   "mimetype": "text/x-python",
   "name": "python",
   "nbconvert_exporter": "python",
   "pygments_lexer": "ipython2",
   "version": "2.7.6"
  }
 },
 "nbformat": 4,
 "nbformat_minor": 5
}
