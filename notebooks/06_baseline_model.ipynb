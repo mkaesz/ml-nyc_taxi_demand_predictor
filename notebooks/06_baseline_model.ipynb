{
 "cells": [
  {
   "cell_type": "code",
   "execution_count": 4,
   "id": "initial_id",
   "metadata": {
    "collapsed": true,
    "ExecuteTime": {
     "end_time": "2023-11-10T09:11:50.943457888Z",
     "start_time": "2023-11-10T09:11:50.878060726Z"
    }
   },
   "outputs": [
    {
     "data": {
      "text/plain": "       rides_previous_672_hour  rides_previous_671_hour  \\\n0                          0.0                      0.0   \n1                          0.0                      0.0   \n2                          0.0                      0.0   \n3                          0.0                      0.0   \n4                          0.0                      0.0   \n...                        ...                      ...   \n89300                      3.0                      0.0   \n89301                      6.0                      4.0   \n89302                      7.0                      2.0   \n89303                      6.0                      5.0   \n89304                      6.0                      6.0   \n\n       rides_previous_670_hour  rides_previous_669_hour  \\\n0                          0.0                      0.0   \n1                          0.0                      0.0   \n2                          0.0                      0.0   \n3                          0.0                      0.0   \n4                          0.0                      0.0   \n...                        ...                      ...   \n89300                      2.0                      3.0   \n89301                      0.0                      0.0   \n89302                      3.0                      4.0   \n89303                      4.0                      3.0   \n89304                      4.0                      2.0   \n\n       rides_previous_668_hour  rides_previous_667_hour  \\\n0                          1.0                      1.0   \n1                          0.0                      4.0   \n2                          0.0                      0.0   \n3                          0.0                      0.0   \n4                          0.0                      0.0   \n...                        ...                      ...   \n89300                      2.0                      3.0   \n89301                      2.0                      0.0   \n89302                      7.0                      4.0   \n89303                      0.0                      3.0   \n89304                      5.0                      1.0   \n\n       rides_previous_666_hour  rides_previous_665_hour  \\\n0                          0.0                      2.0   \n1                          1.0                      2.0   \n2                          0.0                      2.0   \n3                          0.0                      0.0   \n4                          0.0                      0.0   \n...                        ...                      ...   \n89300                     13.0                      8.0   \n89301                     14.0                      7.0   \n89302                     10.0                      9.0   \n89303                     11.0                     12.0   \n89304                      0.0                      3.0   \n\n       rides_previous_664_hour  rides_previous_663_hour  ...  \\\n0                          0.0                      0.0  ...   \n1                          1.0                      2.0  ...   \n2                          0.0                      0.0  ...   \n3                          1.0                      1.0  ...   \n4                          0.0                      0.0  ...   \n...                        ...                      ...  ...   \n89300                      9.0                      9.0  ...   \n89301                      8.0                      4.0  ...   \n89302                      7.0                     11.0  ...   \n89303                      9.0                     10.0  ...   \n89304                      5.0                      8.0  ...   \n\n       rides_previous_7_hour  rides_previous_6_hour  rides_previous_5_hour  \\\n0                        2.0                    0.0                    1.0   \n1                        0.0                    0.0                    0.0   \n2                        0.0                    1.0                    2.0   \n3                        2.0                    1.0                    0.0   \n4                        0.0                    0.0                    0.0   \n...                      ...                    ...                    ...   \n89300                    6.0                    5.0                    3.0   \n89301                    4.0                    2.0                    1.0   \n89302                    2.0                    3.0                    5.0   \n89303                    3.0                    3.0                    1.0   \n89304                    6.0                    4.0                    2.0   \n\n       rides_previous_4_hour  rides_previous_3_hour  rides_previous_2_hour  \\\n0                        0.0                    0.0                    0.0   \n1                        0.0                    1.0                    0.0   \n2                        0.0                    0.0                    0.0   \n3                        1.0                    1.0                    0.0   \n4                        0.0                    0.0                    0.0   \n...                      ...                    ...                    ...   \n89300                    1.0                    6.0                    1.0   \n89301                    2.0                    2.0                    2.0   \n89302                    1.0                    1.0                    0.0   \n89303                    2.0                    0.0                    1.0   \n89304                    5.0                    1.0                    1.0   \n\n       rides_previous_1_hour  pickup_hour  pickup_location_id  \\\n0                        0.0   2022-01-29                   1   \n1                        0.0   2022-01-30                   1   \n2                        0.0   2022-01-31                   1   \n3                        0.0   2022-02-01                   1   \n4                        0.0   2022-02-02                   1   \n...                      ...          ...                 ...   \n89300                    3.0   2022-12-27                 265   \n89301                    8.0   2022-12-28                 265   \n89302                    8.0   2022-12-29                 265   \n89303                    2.0   2022-12-30                 265   \n89304                    7.0   2022-12-31                 265   \n\n       target_rides_next_hour  \n0                         0.0  \n1                         0.0  \n2                         0.0  \n3                         0.0  \n4                         0.0  \n...                       ...  \n89300                     3.0  \n89301                     1.0  \n89302                     3.0  \n89303                     7.0  \n89304                     3.0  \n\n[89305 rows x 675 columns]",
      "text/html": "<div>\n<style scoped>\n    .dataframe tbody tr th:only-of-type {\n        vertical-align: middle;\n    }\n\n    .dataframe tbody tr th {\n        vertical-align: top;\n    }\n\n    .dataframe thead th {\n        text-align: right;\n    }\n</style>\n<table border=\"1\" class=\"dataframe\">\n  <thead>\n    <tr style=\"text-align: right;\">\n      <th></th>\n      <th>rides_previous_672_hour</th>\n      <th>rides_previous_671_hour</th>\n      <th>rides_previous_670_hour</th>\n      <th>rides_previous_669_hour</th>\n      <th>rides_previous_668_hour</th>\n      <th>rides_previous_667_hour</th>\n      <th>rides_previous_666_hour</th>\n      <th>rides_previous_665_hour</th>\n      <th>rides_previous_664_hour</th>\n      <th>rides_previous_663_hour</th>\n      <th>...</th>\n      <th>rides_previous_7_hour</th>\n      <th>rides_previous_6_hour</th>\n      <th>rides_previous_5_hour</th>\n      <th>rides_previous_4_hour</th>\n      <th>rides_previous_3_hour</th>\n      <th>rides_previous_2_hour</th>\n      <th>rides_previous_1_hour</th>\n      <th>pickup_hour</th>\n      <th>pickup_location_id</th>\n      <th>target_rides_next_hour</th>\n    </tr>\n  </thead>\n  <tbody>\n    <tr>\n      <th>0</th>\n      <td>0.0</td>\n      <td>0.0</td>\n      <td>0.0</td>\n      <td>0.0</td>\n      <td>1.0</td>\n      <td>1.0</td>\n      <td>0.0</td>\n      <td>2.0</td>\n      <td>0.0</td>\n      <td>0.0</td>\n      <td>...</td>\n      <td>2.0</td>\n      <td>0.0</td>\n      <td>1.0</td>\n      <td>0.0</td>\n      <td>0.0</td>\n      <td>0.0</td>\n      <td>0.0</td>\n      <td>2022-01-29</td>\n      <td>1</td>\n      <td>0.0</td>\n    </tr>\n    <tr>\n      <th>1</th>\n      <td>0.0</td>\n      <td>0.0</td>\n      <td>0.0</td>\n      <td>0.0</td>\n      <td>0.0</td>\n      <td>4.0</td>\n      <td>1.0</td>\n      <td>2.0</td>\n      <td>1.0</td>\n      <td>2.0</td>\n      <td>...</td>\n      <td>0.0</td>\n      <td>0.0</td>\n      <td>0.0</td>\n      <td>0.0</td>\n      <td>1.0</td>\n      <td>0.0</td>\n      <td>0.0</td>\n      <td>2022-01-30</td>\n      <td>1</td>\n      <td>0.0</td>\n    </tr>\n    <tr>\n      <th>2</th>\n      <td>0.0</td>\n      <td>0.0</td>\n      <td>0.0</td>\n      <td>0.0</td>\n      <td>0.0</td>\n      <td>0.0</td>\n      <td>0.0</td>\n      <td>2.0</td>\n      <td>0.0</td>\n      <td>0.0</td>\n      <td>...</td>\n      <td>0.0</td>\n      <td>1.0</td>\n      <td>2.0</td>\n      <td>0.0</td>\n      <td>0.0</td>\n      <td>0.0</td>\n      <td>0.0</td>\n      <td>2022-01-31</td>\n      <td>1</td>\n      <td>0.0</td>\n    </tr>\n    <tr>\n      <th>3</th>\n      <td>0.0</td>\n      <td>0.0</td>\n      <td>0.0</td>\n      <td>0.0</td>\n      <td>0.0</td>\n      <td>0.0</td>\n      <td>0.0</td>\n      <td>0.0</td>\n      <td>1.0</td>\n      <td>1.0</td>\n      <td>...</td>\n      <td>2.0</td>\n      <td>1.0</td>\n      <td>0.0</td>\n      <td>1.0</td>\n      <td>1.0</td>\n      <td>0.0</td>\n      <td>0.0</td>\n      <td>2022-02-01</td>\n      <td>1</td>\n      <td>0.0</td>\n    </tr>\n    <tr>\n      <th>4</th>\n      <td>0.0</td>\n      <td>0.0</td>\n      <td>0.0</td>\n      <td>0.0</td>\n      <td>0.0</td>\n      <td>0.0</td>\n      <td>0.0</td>\n      <td>0.0</td>\n      <td>0.0</td>\n      <td>0.0</td>\n      <td>...</td>\n      <td>0.0</td>\n      <td>0.0</td>\n      <td>0.0</td>\n      <td>0.0</td>\n      <td>0.0</td>\n      <td>0.0</td>\n      <td>0.0</td>\n      <td>2022-02-02</td>\n      <td>1</td>\n      <td>0.0</td>\n    </tr>\n    <tr>\n      <th>...</th>\n      <td>...</td>\n      <td>...</td>\n      <td>...</td>\n      <td>...</td>\n      <td>...</td>\n      <td>...</td>\n      <td>...</td>\n      <td>...</td>\n      <td>...</td>\n      <td>...</td>\n      <td>...</td>\n      <td>...</td>\n      <td>...</td>\n      <td>...</td>\n      <td>...</td>\n      <td>...</td>\n      <td>...</td>\n      <td>...</td>\n      <td>...</td>\n      <td>...</td>\n      <td>...</td>\n    </tr>\n    <tr>\n      <th>89300</th>\n      <td>3.0</td>\n      <td>0.0</td>\n      <td>2.0</td>\n      <td>3.0</td>\n      <td>2.0</td>\n      <td>3.0</td>\n      <td>13.0</td>\n      <td>8.0</td>\n      <td>9.0</td>\n      <td>9.0</td>\n      <td>...</td>\n      <td>6.0</td>\n      <td>5.0</td>\n      <td>3.0</td>\n      <td>1.0</td>\n      <td>6.0</td>\n      <td>1.0</td>\n      <td>3.0</td>\n      <td>2022-12-27</td>\n      <td>265</td>\n      <td>3.0</td>\n    </tr>\n    <tr>\n      <th>89301</th>\n      <td>6.0</td>\n      <td>4.0</td>\n      <td>0.0</td>\n      <td>0.0</td>\n      <td>2.0</td>\n      <td>0.0</td>\n      <td>14.0</td>\n      <td>7.0</td>\n      <td>8.0</td>\n      <td>4.0</td>\n      <td>...</td>\n      <td>4.0</td>\n      <td>2.0</td>\n      <td>1.0</td>\n      <td>2.0</td>\n      <td>2.0</td>\n      <td>2.0</td>\n      <td>8.0</td>\n      <td>2022-12-28</td>\n      <td>265</td>\n      <td>1.0</td>\n    </tr>\n    <tr>\n      <th>89302</th>\n      <td>7.0</td>\n      <td>2.0</td>\n      <td>3.0</td>\n      <td>4.0</td>\n      <td>7.0</td>\n      <td>4.0</td>\n      <td>10.0</td>\n      <td>9.0</td>\n      <td>7.0</td>\n      <td>11.0</td>\n      <td>...</td>\n      <td>2.0</td>\n      <td>3.0</td>\n      <td>5.0</td>\n      <td>1.0</td>\n      <td>1.0</td>\n      <td>0.0</td>\n      <td>8.0</td>\n      <td>2022-12-29</td>\n      <td>265</td>\n      <td>3.0</td>\n    </tr>\n    <tr>\n      <th>89303</th>\n      <td>6.0</td>\n      <td>5.0</td>\n      <td>4.0</td>\n      <td>3.0</td>\n      <td>0.0</td>\n      <td>3.0</td>\n      <td>11.0</td>\n      <td>12.0</td>\n      <td>9.0</td>\n      <td>10.0</td>\n      <td>...</td>\n      <td>3.0</td>\n      <td>3.0</td>\n      <td>1.0</td>\n      <td>2.0</td>\n      <td>0.0</td>\n      <td>1.0</td>\n      <td>2.0</td>\n      <td>2022-12-30</td>\n      <td>265</td>\n      <td>7.0</td>\n    </tr>\n    <tr>\n      <th>89304</th>\n      <td>6.0</td>\n      <td>6.0</td>\n      <td>4.0</td>\n      <td>2.0</td>\n      <td>5.0</td>\n      <td>1.0</td>\n      <td>0.0</td>\n      <td>3.0</td>\n      <td>5.0</td>\n      <td>8.0</td>\n      <td>...</td>\n      <td>6.0</td>\n      <td>4.0</td>\n      <td>2.0</td>\n      <td>5.0</td>\n      <td>1.0</td>\n      <td>1.0</td>\n      <td>7.0</td>\n      <td>2022-12-31</td>\n      <td>265</td>\n      <td>3.0</td>\n    </tr>\n  </tbody>\n</table>\n<p>89305 rows × 675 columns</p>\n</div>"
     },
     "execution_count": 4,
     "metadata": {},
     "output_type": "execute_result"
    }
   ],
   "source": [
    "import pandas as pd\n",
    "from src.paths import TRANSFORMED_DATA_DIR\n",
    "\n",
    "df = pd.read_parquet(TRANSFORMED_DATA_DIR / 'tabular_data.parquet')\n",
    "df"
   ]
  },
  {
   "cell_type": "code",
   "execution_count": 9,
   "outputs": [
    {
     "ename": "AttributeError",
     "evalue": "'Series' object has no attribute 'to_datetime'",
     "output_type": "error",
     "traceback": [
      "\u001B[0;31m---------------------------------------------------------------------------\u001B[0m",
      "\u001B[0;31mAttributeError\u001B[0m                            Traceback (most recent call last)",
      "\u001B[0;32m/tmp/ipykernel_86218/3963639777.py\u001B[0m in \u001B[0;36m?\u001B[0;34m()\u001B[0m\n\u001B[1;32m      1\u001B[0m \u001B[0;32mfrom\u001B[0m \u001B[0mdatetime\u001B[0m \u001B[0;32mimport\u001B[0m \u001B[0mdatetime\u001B[0m\u001B[0;34m\u001B[0m\u001B[0;34m\u001B[0m\u001B[0m\n\u001B[1;32m      2\u001B[0m \u001B[0;32mfrom\u001B[0m \u001B[0msrc\u001B[0m\u001B[0;34m.\u001B[0m\u001B[0mdata_split\u001B[0m \u001B[0;32mimport\u001B[0m \u001B[0mtrain_test_split\u001B[0m\u001B[0;34m\u001B[0m\u001B[0;34m\u001B[0m\u001B[0m\n\u001B[1;32m      3\u001B[0m \u001B[0;34m\u001B[0m\u001B[0m\n\u001B[0;32m----> 4\u001B[0;31m X_train, y_train, X_test, y_test = train_test_split(\n\u001B[0m\u001B[1;32m      5\u001B[0m     \u001B[0mdf\u001B[0m\u001B[0;34m,\u001B[0m\u001B[0;34m\u001B[0m\u001B[0;34m\u001B[0m\u001B[0m\n\u001B[1;32m      6\u001B[0m     \u001B[0mcutoff_date\u001B[0m\u001B[0;34m=\u001B[0m\u001B[0mdatetime\u001B[0m\u001B[0;34m(\u001B[0m\u001B[0;36m2022\u001B[0m\u001B[0;34m,\u001B[0m\u001B[0;36m6\u001B[0m\u001B[0;34m,\u001B[0m\u001B[0;36m1\u001B[0m\u001B[0;34m,\u001B[0m\u001B[0;36m0\u001B[0m\u001B[0;34m,\u001B[0m\u001B[0;36m0\u001B[0m\u001B[0;34m,\u001B[0m\u001B[0;36m0\u001B[0m\u001B[0;34m)\u001B[0m\u001B[0;34m,\u001B[0m\u001B[0;34m\u001B[0m\u001B[0;34m\u001B[0m\u001B[0m\n\u001B[1;32m      7\u001B[0m     \u001B[0mtarget_column_name\u001B[0m\u001B[0;34m=\u001B[0m\u001B[0;34m'target_rides_next_hour'\u001B[0m\u001B[0;34m\u001B[0m\u001B[0;34m\u001B[0m\u001B[0m\n",
      "\u001B[0;32m~/workspace/learning-machine-learning/mlops/taxi_demand_predictor/src/data_split.py\u001B[0m in \u001B[0;36m?\u001B[0;34m(df, cutoff_date, target_column_name)\u001B[0m\n\u001B[1;32m     10\u001B[0m         \u001B[0mtarget_column_name\u001B[0m\u001B[0;34m:\u001B[0m \u001B[0mstr\u001B[0m\u001B[0;34m,\u001B[0m\u001B[0;34m\u001B[0m\u001B[0;34m\u001B[0m\u001B[0m\n\u001B[1;32m     11\u001B[0m ) -> Tuple[pd.DataFrame, pd.Series, pd.DataFrame, pd.Series]:\n\u001B[1;32m     12\u001B[0m     \"\"\"\n\u001B[1;32m     13\u001B[0m     \"\"\"\n\u001B[0;32m---> 14\u001B[0;31m \u001B[0;34m\u001B[0m\u001B[0m\n\u001B[0m\u001B[1;32m     15\u001B[0m     \u001B[0mtrain_data\u001B[0m \u001B[0;34m=\u001B[0m \u001B[0mdf\u001B[0m\u001B[0;34m[\u001B[0m\u001B[0mdf\u001B[0m\u001B[0;34m.\u001B[0m\u001B[0mpickup_hour\u001B[0m \u001B[0;34m<\u001B[0m \u001B[0mcutoff_date\u001B[0m\u001B[0;34m]\u001B[0m\u001B[0;34m.\u001B[0m\u001B[0mreset_index\u001B[0m\u001B[0;34m(\u001B[0m\u001B[0mdrop\u001B[0m\u001B[0;34m=\u001B[0m\u001B[0;32mTrue\u001B[0m\u001B[0;34m)\u001B[0m\u001B[0;34m\u001B[0m\u001B[0;34m\u001B[0m\u001B[0m\n\u001B[1;32m     16\u001B[0m     \u001B[0mtest_data\u001B[0m \u001B[0;34m=\u001B[0m \u001B[0mdf\u001B[0m\u001B[0;34m[\u001B[0m\u001B[0mdf\u001B[0m\u001B[0;34m.\u001B[0m\u001B[0mpickup_hour\u001B[0m \u001B[0;34m>=\u001B[0m \u001B[0mcutoff_date\u001B[0m\u001B[0;34m]\u001B[0m\u001B[0;34m.\u001B[0m\u001B[0mreset_index\u001B[0m\u001B[0;34m(\u001B[0m\u001B[0mdrop\u001B[0m\u001B[0;34m=\u001B[0m\u001B[0;32mTrue\u001B[0m\u001B[0;34m)\u001B[0m\u001B[0;34m\u001B[0m\u001B[0;34m\u001B[0m\u001B[0m\n\u001B[1;32m     17\u001B[0m \u001B[0;34m\u001B[0m\u001B[0m\n",
      "\u001B[0;32m~/.cache/pypoetry/virtualenvs/src-4E75Pf6i-py3.11/lib64/python3.11/site-packages/pandas/core/generic.py\u001B[0m in \u001B[0;36m?\u001B[0;34m(self, name)\u001B[0m\n\u001B[1;32m   5985\u001B[0m             \u001B[0;32mand\u001B[0m \u001B[0mname\u001B[0m \u001B[0;32mnot\u001B[0m \u001B[0;32min\u001B[0m \u001B[0mself\u001B[0m\u001B[0;34m.\u001B[0m\u001B[0m_accessors\u001B[0m\u001B[0;34m\u001B[0m\u001B[0;34m\u001B[0m\u001B[0m\n\u001B[1;32m   5986\u001B[0m             \u001B[0;32mand\u001B[0m \u001B[0mself\u001B[0m\u001B[0;34m.\u001B[0m\u001B[0m_info_axis\u001B[0m\u001B[0;34m.\u001B[0m\u001B[0m_can_hold_identifiers_and_holds_name\u001B[0m\u001B[0;34m(\u001B[0m\u001B[0mname\u001B[0m\u001B[0;34m)\u001B[0m\u001B[0;34m\u001B[0m\u001B[0;34m\u001B[0m\u001B[0m\n\u001B[1;32m   5987\u001B[0m         ):\n\u001B[1;32m   5988\u001B[0m             \u001B[0;32mreturn\u001B[0m \u001B[0mself\u001B[0m\u001B[0;34m[\u001B[0m\u001B[0mname\u001B[0m\u001B[0;34m]\u001B[0m\u001B[0;34m\u001B[0m\u001B[0;34m\u001B[0m\u001B[0m\n\u001B[0;32m-> 5989\u001B[0;31m         \u001B[0;32mreturn\u001B[0m \u001B[0mobject\u001B[0m\u001B[0;34m.\u001B[0m\u001B[0m__getattribute__\u001B[0m\u001B[0;34m(\u001B[0m\u001B[0mself\u001B[0m\u001B[0;34m,\u001B[0m \u001B[0mname\u001B[0m\u001B[0;34m)\u001B[0m\u001B[0;34m\u001B[0m\u001B[0;34m\u001B[0m\u001B[0m\n\u001B[0m",
      "\u001B[0;31mAttributeError\u001B[0m: 'Series' object has no attribute 'to_datetime'"
     ]
    }
   ],
   "source": [
    "from datetime import datetime\n",
    "from src.data_split import train_test_split\n",
    "\n",
    "X_train, y_train, X_test, y_test = train_test_split(\n",
    "    df,\n",
    "    cutoff_date=datetime(2022,6,1,0,0,0),\n",
    "    target_column_name='target_rides_next_hour'\n",
    ")\n",
    "\n",
    "print(f'{X_train.shape}')\n",
    "print(f'{y_train.shape}')\n",
    "print(f'{X_test.shape}')\n",
    "print(f'{y_test.shape}')"
   ],
   "metadata": {
    "collapsed": false,
    "ExecuteTime": {
     "end_time": "2023-11-10T09:12:37.618367671Z",
     "start_time": "2023-11-10T09:12:37.612225153Z"
    }
   },
   "id": "4ee6817930790be8"
  },
  {
   "cell_type": "code",
   "execution_count": 10,
   "outputs": [],
   "source": [
    "# No machine learning used for now - on purpose\n",
    "\n",
    "import numpy as np\n",
    "\n",
    "class BaselineModelPreviousHour:\n",
    "    def fit(self, X_train: pd.DataFrame, y_train: pd.Series):\n",
    "        pass\n",
    "    def predict(self, X_test: pd.DataFrame) -> np.array:\n",
    "        return X_test[f'rides_previous_1_hour']"
   ],
   "metadata": {
    "collapsed": false,
    "ExecuteTime": {
     "end_time": "2023-11-10T09:12:38.179879212Z",
     "start_time": "2023-11-10T09:12:38.177506406Z"
    }
   },
   "id": "c4bcd0e42faa8a2a"
  },
  {
   "cell_type": "code",
   "execution_count": 5,
   "outputs": [
    {
     "data": {
      "text/plain": "0        0.0\n1        0.0\n2        0.0\n3        0.0\n4        0.0\n        ... \n56705    3.0\n56706    8.0\n56707    8.0\n56708    2.0\n56709    7.0\nName: rides_previous_1_hour, Length: 56710, dtype: float32"
     },
     "execution_count": 5,
     "metadata": {},
     "output_type": "execute_result"
    }
   ],
   "source": [
    "model = BaselineModelPreviousHour()\n",
    "predictions = model.predict(X_test)\n",
    "predictions"
   ],
   "metadata": {
    "collapsed": false,
    "ExecuteTime": {
     "end_time": "2023-11-08T20:54:15.420409016Z",
     "start_time": "2023-11-08T20:54:15.418816014Z"
    }
   },
   "id": "252f600a61b3f6b7"
  },
  {
   "cell_type": "code",
   "execution_count": 6,
   "outputs": [
    {
     "name": "stdout",
     "output_type": "stream",
     "text": [
      "test_mae=6.0558\n"
     ]
    }
   ],
   "source": [
    "from sklearn.metrics import mean_absolute_error\n",
    "\n",
    "test_mae = mean_absolute_error(y_test, predictions)\n",
    "print(f'{test_mae=:.4f}')"
   ],
   "metadata": {
    "collapsed": false,
    "ExecuteTime": {
     "end_time": "2023-11-08T20:54:16.438706128Z",
     "start_time": "2023-11-08T20:54:16.436561203Z"
    }
   },
   "id": "11249c5a02500828"
  },
  {
   "cell_type": "code",
   "execution_count": 7,
   "outputs": [],
   "source": [
    "class BaselineModelPreviousWeek:\n",
    "    def fit(self, X_train: pd.DataFrame, y_train: pd.Series):\n",
    "        pass\n",
    "    def predict(self, X_test: pd.DataFrame) -> np.array:\n",
    "        return X_test[f'rides_previous_{7*24}_hour']"
   ],
   "metadata": {
    "collapsed": false,
    "ExecuteTime": {
     "end_time": "2023-11-08T20:54:18.462292491Z",
     "start_time": "2023-11-08T20:54:18.459500136Z"
    }
   },
   "id": "ed9cb02ec92f6d57"
  },
  {
   "cell_type": "code",
   "execution_count": 8,
   "outputs": [
    {
     "name": "stdout",
     "output_type": "stream",
     "text": [
      "test_mae=3.6811\n"
     ]
    }
   ],
   "source": [
    "model = BaselineModelPreviousWeek()\n",
    "predictions = model.predict(X_test)\n",
    "\n",
    "test_mae = mean_absolute_error(y_test, predictions)\n",
    "print(f'{test_mae=:.4f}')"
   ],
   "metadata": {
    "collapsed": false,
    "ExecuteTime": {
     "end_time": "2023-11-08T20:54:19.974537246Z",
     "start_time": "2023-11-08T20:54:19.971383602Z"
    }
   },
   "id": "54e1ac995f83197a"
  },
  {
   "cell_type": "code",
   "execution_count": 9,
   "outputs": [],
   "source": [
    "class BaselineModelLast4Weeks:\n",
    "    def fit(self, X_train: pd.DataFrame, y_train: pd.Series):\n",
    "        pass\n",
    "    def predict(self, X_test: pd.DataFrame) -> np.array:\n",
    "        return 0.25 *(\n",
    "            X_test[f'rides_previous_{7*24}_hour'] + \\\n",
    "            X_test[f'rides_previous_{2*7*24}_hour'] + \\\n",
    "            X_test[f'rides_previous_{3*7*24}_hour'] + \\\n",
    "            X_test[f'rides_previous_{4*7*24}_hour']\n",
    "        )"
   ],
   "metadata": {
    "collapsed": false,
    "ExecuteTime": {
     "end_time": "2023-11-08T20:54:20.591451073Z",
     "start_time": "2023-11-08T20:54:20.589774325Z"
    }
   },
   "id": "8f3d3495d8803898"
  },
  {
   "cell_type": "code",
   "execution_count": 10,
   "outputs": [
    {
     "name": "stdout",
     "output_type": "stream",
     "text": [
      "test_mae=3.1963\n"
     ]
    }
   ],
   "source": [
    "model = BaselineModelLast4Weeks()\n",
    "predictions = model.predict(X_test)\n",
    "\n",
    "test_mae = mean_absolute_error(y_test, predictions)\n",
    "print(f'{test_mae=:.4f}')"
   ],
   "metadata": {
    "collapsed": false,
    "ExecuteTime": {
     "end_time": "2023-11-08T20:54:21.265709502Z",
     "start_time": "2023-11-08T20:54:21.258844840Z"
    }
   },
   "id": "84db0ab1165f755"
  },
  {
   "cell_type": "code",
   "execution_count": null,
   "outputs": [],
   "source": [],
   "metadata": {
    "collapsed": false
   },
   "id": "b6a824b1d5ebc01a"
  }
 ],
 "metadata": {
  "kernelspec": {
   "display_name": "Python 3",
   "language": "python",
   "name": "python3"
  },
  "language_info": {
   "codemirror_mode": {
    "name": "ipython",
    "version": 2
   },
   "file_extension": ".py",
   "mimetype": "text/x-python",
   "name": "python",
   "nbconvert_exporter": "python",
   "pygments_lexer": "ipython2",
   "version": "2.7.6"
  }
 },
 "nbformat": 4,
 "nbformat_minor": 5
}
